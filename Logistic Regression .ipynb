{
 "cells": [
  {
   "cell_type": "code",
   "execution_count": 1,
   "id": "4f4438dd",
   "metadata": {},
   "outputs": [],
   "source": [
    "import numpy as np\n",
    "import pandas as pd\n",
    "import matplotlib.pyplot as plt\n"
   ]
  },
  {
   "cell_type": "code",
   "execution_count": 2,
   "id": "2c97df65",
   "metadata": {},
   "outputs": [
    {
     "data": {
      "text/html": [
       "<div>\n",
       "<style scoped>\n",
       "    .dataframe tbody tr th:only-of-type {\n",
       "        vertical-align: middle;\n",
       "    }\n",
       "\n",
       "    .dataframe tbody tr th {\n",
       "        vertical-align: top;\n",
       "    }\n",
       "\n",
       "    .dataframe thead th {\n",
       "        text-align: right;\n",
       "    }\n",
       "</style>\n",
       "<table border=\"1\" class=\"dataframe\">\n",
       "  <thead>\n",
       "    <tr style=\"text-align: right;\">\n",
       "      <th></th>\n",
       "      <th>Unnamed: 0</th>\n",
       "      <th>Sqft</th>\n",
       "      <th>Floor</th>\n",
       "      <th>TotalFloor</th>\n",
       "      <th>Bedroom</th>\n",
       "      <th>Living.Room</th>\n",
       "      <th>Bathroom</th>\n",
       "      <th>Price</th>\n",
       "    </tr>\n",
       "  </thead>\n",
       "  <tbody>\n",
       "    <tr>\n",
       "      <th>0</th>\n",
       "      <td>1</td>\n",
       "      <td>1177.698</td>\n",
       "      <td>2</td>\n",
       "      <td>7</td>\n",
       "      <td>2</td>\n",
       "      <td>2</td>\n",
       "      <td>2</td>\n",
       "      <td>62000</td>\n",
       "    </tr>\n",
       "    <tr>\n",
       "      <th>1</th>\n",
       "      <td>2</td>\n",
       "      <td>2134.800</td>\n",
       "      <td>5</td>\n",
       "      <td>7</td>\n",
       "      <td>4</td>\n",
       "      <td>2</td>\n",
       "      <td>2</td>\n",
       "      <td>78000</td>\n",
       "    </tr>\n",
       "    <tr>\n",
       "      <th>2</th>\n",
       "      <td>3</td>\n",
       "      <td>1138.560</td>\n",
       "      <td>5</td>\n",
       "      <td>7</td>\n",
       "      <td>2</td>\n",
       "      <td>2</td>\n",
       "      <td>1</td>\n",
       "      <td>58000</td>\n",
       "    </tr>\n",
       "    <tr>\n",
       "      <th>3</th>\n",
       "      <td>4</td>\n",
       "      <td>1458.780</td>\n",
       "      <td>2</td>\n",
       "      <td>7</td>\n",
       "      <td>3</td>\n",
       "      <td>2</td>\n",
       "      <td>2</td>\n",
       "      <td>45000</td>\n",
       "    </tr>\n",
       "    <tr>\n",
       "      <th>4</th>\n",
       "      <td>5</td>\n",
       "      <td>967.776</td>\n",
       "      <td>11</td>\n",
       "      <td>14</td>\n",
       "      <td>3</td>\n",
       "      <td>2</td>\n",
       "      <td>2</td>\n",
       "      <td>45000</td>\n",
       "    </tr>\n",
       "  </tbody>\n",
       "</table>\n",
       "</div>"
      ],
      "text/plain": [
       "   Unnamed: 0      Sqft  Floor  TotalFloor  Bedroom  Living.Room  Bathroom  \\\n",
       "0           1  1177.698      2           7        2            2         2   \n",
       "1           2  2134.800      5           7        4            2         2   \n",
       "2           3  1138.560      5           7        2            2         1   \n",
       "3           4  1458.780      2           7        3            2         2   \n",
       "4           5   967.776     11          14        3            2         2   \n",
       "\n",
       "   Price  \n",
       "0  62000  \n",
       "1  78000  \n",
       "2  58000  \n",
       "3  45000  \n",
       "4  45000  "
      ]
     },
     "execution_count": 2,
     "metadata": {},
     "output_type": "execute_result"
    }
   ],
   "source": [
    "data = pd.read_csv(\"house_rental_data.csv.txt\")\n",
    "data.head()"
   ]
  },
  {
   "cell_type": "code",
   "execution_count": 3,
   "id": "362f375d",
   "metadata": {},
   "outputs": [
    {
     "name": "stdout",
     "output_type": "stream",
     "text": [
      "<class 'pandas.core.frame.DataFrame'>\n",
      "RangeIndex: 645 entries, 0 to 644\n",
      "Data columns (total 8 columns):\n",
      " #   Column       Non-Null Count  Dtype  \n",
      "---  ------       --------------  -----  \n",
      " 0   Unnamed: 0   645 non-null    int64  \n",
      " 1   Sqft         645 non-null    float64\n",
      " 2   Floor        645 non-null    int64  \n",
      " 3   TotalFloor   645 non-null    int64  \n",
      " 4   Bedroom      645 non-null    int64  \n",
      " 5   Living.Room  645 non-null    int64  \n",
      " 6   Bathroom     645 non-null    int64  \n",
      " 7   Price        645 non-null    int64  \n",
      "dtypes: float64(1), int64(7)\n",
      "memory usage: 40.4 KB\n"
     ]
    }
   ],
   "source": [
    "data.info()"
   ]
  },
  {
   "cell_type": "code",
   "execution_count": 4,
   "id": "55f8d70e",
   "metadata": {},
   "outputs": [
    {
     "data": {
      "text/plain": [
       "(645, 8)"
      ]
     },
     "execution_count": 4,
     "metadata": {},
     "output_type": "execute_result"
    }
   ],
   "source": [
    "data.shape"
   ]
  },
  {
   "cell_type": "code",
   "execution_count": 5,
   "id": "3e295855",
   "metadata": {},
   "outputs": [
    {
     "data": {
      "text/plain": [
       "Index(['Unnamed: 0', 'Sqft', 'Floor', 'TotalFloor', 'Bedroom', 'Living.Room',\n",
       "       'Bathroom', 'Price'],\n",
       "      dtype='object')"
      ]
     },
     "execution_count": 5,
     "metadata": {},
     "output_type": "execute_result"
    }
   ],
   "source": [
    "data.columns"
   ]
  },
  {
   "cell_type": "code",
   "execution_count": 6,
   "id": "03396655",
   "metadata": {},
   "outputs": [
    {
     "data": {
      "text/html": [
       "<div>\n",
       "<style scoped>\n",
       "    .dataframe tbody tr th:only-of-type {\n",
       "        vertical-align: middle;\n",
       "    }\n",
       "\n",
       "    .dataframe tbody tr th {\n",
       "        vertical-align: top;\n",
       "    }\n",
       "\n",
       "    .dataframe thead th {\n",
       "        text-align: right;\n",
       "    }\n",
       "</style>\n",
       "<table border=\"1\" class=\"dataframe\">\n",
       "  <thead>\n",
       "    <tr style=\"text-align: right;\">\n",
       "      <th></th>\n",
       "      <th>Unnamed: 0</th>\n",
       "      <th>Sqft</th>\n",
       "      <th>Floor</th>\n",
       "      <th>TotalFloor</th>\n",
       "      <th>Bedroom</th>\n",
       "      <th>Living.Room</th>\n",
       "      <th>Bathroom</th>\n",
       "      <th>Price</th>\n",
       "    </tr>\n",
       "  </thead>\n",
       "  <tbody>\n",
       "    <tr>\n",
       "      <th>count</th>\n",
       "      <td>645.000000</td>\n",
       "      <td>645.000000</td>\n",
       "      <td>645.000000</td>\n",
       "      <td>645.000000</td>\n",
       "      <td>645.000000</td>\n",
       "      <td>645.000000</td>\n",
       "      <td>645.000000</td>\n",
       "      <td>645.000000</td>\n",
       "    </tr>\n",
       "    <tr>\n",
       "      <th>mean</th>\n",
       "      <td>325.159690</td>\n",
       "      <td>1527.656260</td>\n",
       "      <td>5.939535</td>\n",
       "      <td>10.855814</td>\n",
       "      <td>2.837209</td>\n",
       "      <td>1.813953</td>\n",
       "      <td>1.810853</td>\n",
       "      <td>61986.823256</td>\n",
       "    </tr>\n",
       "    <tr>\n",
       "      <th>std</th>\n",
       "      <td>187.312152</td>\n",
       "      <td>767.386531</td>\n",
       "      <td>3.884721</td>\n",
       "      <td>4.996208</td>\n",
       "      <td>1.010740</td>\n",
       "      <td>0.462364</td>\n",
       "      <td>0.683574</td>\n",
       "      <td>35635.091007</td>\n",
       "    </tr>\n",
       "    <tr>\n",
       "      <th>min</th>\n",
       "      <td>1.000000</td>\n",
       "      <td>359.358000</td>\n",
       "      <td>1.000000</td>\n",
       "      <td>1.000000</td>\n",
       "      <td>1.000000</td>\n",
       "      <td>0.000000</td>\n",
       "      <td>0.000000</td>\n",
       "      <td>6100.000000</td>\n",
       "    </tr>\n",
       "    <tr>\n",
       "      <th>25%</th>\n",
       "      <td>164.000000</td>\n",
       "      <td>925.080000</td>\n",
       "      <td>3.000000</td>\n",
       "      <td>7.000000</td>\n",
       "      <td>2.000000</td>\n",
       "      <td>2.000000</td>\n",
       "      <td>1.000000</td>\n",
       "      <td>39000.000000</td>\n",
       "    </tr>\n",
       "    <tr>\n",
       "      <th>50%</th>\n",
       "      <td>326.000000</td>\n",
       "      <td>1423.200000</td>\n",
       "      <td>5.000000</td>\n",
       "      <td>12.000000</td>\n",
       "      <td>3.000000</td>\n",
       "      <td>2.000000</td>\n",
       "      <td>2.000000</td>\n",
       "      <td>50000.000000</td>\n",
       "    </tr>\n",
       "    <tr>\n",
       "      <th>75%</th>\n",
       "      <td>487.000000</td>\n",
       "      <td>1892.856000</td>\n",
       "      <td>8.000000</td>\n",
       "      <td>14.000000</td>\n",
       "      <td>4.000000</td>\n",
       "      <td>2.000000</td>\n",
       "      <td>2.000000</td>\n",
       "      <td>75000.000000</td>\n",
       "    </tr>\n",
       "    <tr>\n",
       "      <th>max</th>\n",
       "      <td>648.000000</td>\n",
       "      <td>5856.468000</td>\n",
       "      <td>22.000000</td>\n",
       "      <td>38.000000</td>\n",
       "      <td>7.000000</td>\n",
       "      <td>4.000000</td>\n",
       "      <td>5.000000</td>\n",
       "      <td>250000.000000</td>\n",
       "    </tr>\n",
       "  </tbody>\n",
       "</table>\n",
       "</div>"
      ],
      "text/plain": [
       "       Unnamed: 0         Sqft       Floor  TotalFloor     Bedroom  \\\n",
       "count  645.000000   645.000000  645.000000  645.000000  645.000000   \n",
       "mean   325.159690  1527.656260    5.939535   10.855814    2.837209   \n",
       "std    187.312152   767.386531    3.884721    4.996208    1.010740   \n",
       "min      1.000000   359.358000    1.000000    1.000000    1.000000   \n",
       "25%    164.000000   925.080000    3.000000    7.000000    2.000000   \n",
       "50%    326.000000  1423.200000    5.000000   12.000000    3.000000   \n",
       "75%    487.000000  1892.856000    8.000000   14.000000    4.000000   \n",
       "max    648.000000  5856.468000   22.000000   38.000000    7.000000   \n",
       "\n",
       "       Living.Room    Bathroom          Price  \n",
       "count   645.000000  645.000000     645.000000  \n",
       "mean      1.813953    1.810853   61986.823256  \n",
       "std       0.462364    0.683574   35635.091007  \n",
       "min       0.000000    0.000000    6100.000000  \n",
       "25%       2.000000    1.000000   39000.000000  \n",
       "50%       2.000000    2.000000   50000.000000  \n",
       "75%       2.000000    2.000000   75000.000000  \n",
       "max       4.000000    5.000000  250000.000000  "
      ]
     },
     "execution_count": 6,
     "metadata": {},
     "output_type": "execute_result"
    }
   ],
   "source": [
    "data.describe()"
   ]
  },
  {
   "cell_type": "code",
   "execution_count": 18,
   "id": "166e4968",
   "metadata": {},
   "outputs": [],
   "source": [
    "data_df = data.corr()"
   ]
  },
  {
   "cell_type": "code",
   "execution_count": 16,
   "id": "cfe92b4e",
   "metadata": {},
   "outputs": [
    {
     "data": {
      "image/png": "[encoded data removed]",
      "text/plain": [
       "<Figure size 576x360 with 1 Axes>"
      ]
     },
     "metadata": {
      "needs_background": "light"
     },
     "output_type": "display_data"
    }
   ],
   "source": [
    "fig, ax = plt.subplots(figsize = (8,5))\n",
    "ax.plot(data[\"Sqft\"].head(),data[\"Price\"].head())\n",
    "ax.set_xlabel(\"Sqft\")\n",
    "ax.set_ylabel(\"Price\")\n",
    "ax.set_title(\"Cost\")\n",
    "plt.show()"
   ]
  },
  {
   "cell_type": "code",
   "execution_count": 22,
   "id": "d7dc73e3",
   "metadata": {},
   "outputs": [
    {
     "data": {
      "text/plain": [
       "<AxesSubplot:xlabel='Price'>"
      ]
     },
     "execution_count": 22,
     "metadata": {},
     "output_type": "execute_result"
    },
    {
     "data": {
      "image/png": "[encoded data removed]",
      "text/plain": [
       "<Figure size 576x576 with 1 Axes>"
      ]
     },
     "metadata": {
      "needs_background": "light"
     },
     "output_type": "display_data"
    }
   ],
   "source": [
    "data.groupby(['Price'])[['Bedroom','TotalFloor', 'Bathroom']].mean().plot(kind=\"bar\", figsize=(8,8))"
   ]
  },
  {
   "cell_type": "code",
   "execution_count": 26,
   "id": "0573f8f3",
   "metadata": {},
   "outputs": [
    {
     "data": {
      "text/plain": [
       "(645, 1)"
      ]
     },
     "execution_count": 26,
     "metadata": {},
     "output_type": "execute_result"
    }
   ],
   "source": [
    "X= data.iloc[:,3:7].values\n",
    "#y= Data['price'].values\n",
    "y = data.iloc[:, [7]].values\n",
    "X.shape\n",
    "y.shape"
   ]
  },
  {
   "cell_type": "code",
   "execution_count": 29,
   "id": "d236fda2",
   "metadata": {},
   "outputs": [],
   "source": [
    "from sklearn.model_selection import train_test_split\n",
    "X_train,X_test,y_train,y_test=train_test_split(X, y ,test_size=0.25,random_state=1)"
   ]
  },
  {
   "cell_type": "code",
   "execution_count": 30,
   "id": "c83831a8",
   "metadata": {},
   "outputs": [
    {
     "name": "stdout",
     "output_type": "stream",
     "text": [
      "X_train.shape: (483, 4) \n",
      "y_train.shape:  (483, 1) \n",
      "X_test.shape:  (162, 4) \n",
      "y_test.shape:  (162, 1)\n"
     ]
    }
   ],
   "source": [
    "print('X_train.shape:', X_train.shape , '\\ny_train.shape: ', y_train.shape, '\\nX_test.shape: ', X_test.shape , '\\ny_test.shape: ', y_test.shape)"
   ]
  },
  {
   "cell_type": "code",
   "execution_count": 31,
   "id": "37e23162",
   "metadata": {},
   "outputs": [],
   "source": [
    "from sklearn.preprocessing import StandardScaler\n",
    "sc=StandardScaler()\n",
    "sc.fit(X_train)\n",
    "X_scaled_train=sc.transform(X_train)\n",
    "X_scaled_test=sc.transform(X_test)"
   ]
  },
  {
   "cell_type": "code",
   "execution_count": 27,
   "id": "b8987c33",
   "metadata": {},
   "outputs": [],
   "source": [
    "from sklearn.linear_model import LogisticRegression"
   ]
  },
  {
   "cell_type": "code",
   "execution_count": 33,
   "id": "56ac675f",
   "metadata": {},
   "outputs": [
    {
     "name": "stdout",
     "output_type": "stream",
     "text": [
      "Training score ---> 0.13250517598343686\n",
      "Testing score --->  0.07407407407407407\n"
     ]
    }
   ],
   "source": [
    "logisticRegr = LogisticRegression()\n",
    "logisticRegr.fit(X_scaled_train,y_train.ravel())\n",
    "print(f\"Training score ---> {logisticRegr.score(X_scaled_train,y_train.ravel())}\")\n",
    "predict_y =logisticRegr.predict(X_scaled_test)\n",
    "print(f\"Testing score --->  {logisticRegr.score(X_scaled_test,y_test.ravel())}\")"
   ]
  },
  {
   "cell_type": "code",
   "execution_count": 34,
   "id": "8c52454e",
   "metadata": {},
   "outputs": [
    {
     "data": {
      "text/plain": [
       "array([[ 65000],\n",
       "       [ 78000],\n",
       "       [ 57000],\n",
       "       [100000],\n",
       "       [120000],\n",
       "       [ 50000],\n",
       "       [ 38000],\n",
       "       [ 26000],\n",
       "       [149999],\n",
       "       [ 89000],\n",
       "       [ 33700],\n",
       "       [105000],\n",
       "       [ 45000],\n",
       "       [ 47000],\n",
       "       [ 60000],\n",
       "       [ 33500],\n",
       "       [ 88000],\n",
       "       [100000],\n",
       "       [ 25000],\n",
       "       [ 78000],\n",
       "       [ 43000],\n",
       "       [ 38000],\n",
       "       [100000],\n",
       "       [ 55000],\n",
       "       [ 48000],\n",
       "       [ 55000],\n",
       "       [ 39000],\n",
       "       [ 49800],\n",
       "       [ 31000],\n",
       "       [ 17000],\n",
       "       [150000],\n",
       "       [ 48000],\n",
       "       [ 69000],\n",
       "       [ 36000],\n",
       "       [ 55000],\n",
       "       [ 45000],\n",
       "       [ 60000],\n",
       "       [ 40000],\n",
       "       [160000],\n",
       "       [ 50000],\n",
       "       [ 30000],\n",
       "       [ 45000],\n",
       "       [ 33000],\n",
       "       [ 61000],\n",
       "       [ 46000],\n",
       "       [ 80000],\n",
       "       [ 20000],\n",
       "       [ 60000],\n",
       "       [ 68000],\n",
       "       [ 50000],\n",
       "       [ 21000],\n",
       "       [ 85000],\n",
       "       [ 45000],\n",
       "       [ 39000],\n",
       "       [ 90000],\n",
       "       [ 89000],\n",
       "       [120000],\n",
       "       [ 48800],\n",
       "       [ 36000],\n",
       "       [ 33000],\n",
       "       [ 78000],\n",
       "       [160000],\n",
       "       [ 75000],\n",
       "       [ 37000],\n",
       "       [ 85000],\n",
       "       [ 46000],\n",
       "       [ 60000],\n",
       "       [ 12000],\n",
       "       [ 40000],\n",
       "       [ 29000],\n",
       "       [ 60000],\n",
       "       [ 39000],\n",
       "       [ 36000],\n",
       "       [ 88000],\n",
       "       [ 62000],\n",
       "       [ 25000],\n",
       "       [168000],\n",
       "       [ 55000],\n",
       "       [ 57000],\n",
       "       [ 50000],\n",
       "       [ 51000],\n",
       "       [ 60000],\n",
       "       [ 42000],\n",
       "       [ 42000],\n",
       "       [ 40999],\n",
       "       [ 23000],\n",
       "       [ 29002],\n",
       "       [ 99999],\n",
       "       [ 43000],\n",
       "       [ 45000],\n",
       "       [ 55000],\n",
       "       [ 31000],\n",
       "       [ 45000],\n",
       "       [ 52000],\n",
       "       [ 68000],\n",
       "       [ 48000],\n",
       "       [ 19000],\n",
       "       [ 36000],\n",
       "       [ 24888],\n",
       "       [150000],\n",
       "       [150000],\n",
       "       [ 45000],\n",
       "       [ 40000],\n",
       "       [ 75000],\n",
       "       [ 24030],\n",
       "       [ 36000],\n",
       "       [ 29500],\n",
       "       [ 35000],\n",
       "       [ 48000],\n",
       "       [ 42000],\n",
       "       [ 88000],\n",
       "       [ 45000],\n",
       "       [ 49999],\n",
       "       [ 42000],\n",
       "       [ 45000],\n",
       "       [ 48000],\n",
       "       [ 73000],\n",
       "       [ 35000],\n",
       "       [ 35000],\n",
       "       [ 53000],\n",
       "       [ 26000],\n",
       "       [ 34800],\n",
       "       [ 38000],\n",
       "       [ 42000],\n",
       "       [ 50000],\n",
       "       [ 45000],\n",
       "       [ 65999],\n",
       "       [ 26000],\n",
       "       [110000],\n",
       "       [ 48120],\n",
       "       [ 42000],\n",
       "       [ 63000],\n",
       "       [ 50000],\n",
       "       [ 70000],\n",
       "       [ 99990],\n",
       "       [ 24028],\n",
       "       [ 35000],\n",
       "       [ 60000],\n",
       "       [ 88000],\n",
       "       [ 75000],\n",
       "       [ 34000],\n",
       "       [135000],\n",
       "       [ 28000],\n",
       "       [ 49800],\n",
       "       [150000],\n",
       "       [ 38000],\n",
       "       [ 75000],\n",
       "       [ 48800],\n",
       "       [ 48000],\n",
       "       [ 45000],\n",
       "       [ 45000],\n",
       "       [120000],\n",
       "       [ 65000],\n",
       "       [ 48800],\n",
       "       [ 36000],\n",
       "       [ 68000],\n",
       "       [ 45000],\n",
       "       [ 49999],\n",
       "       [ 39000],\n",
       "       [ 90000],\n",
       "       [ 43000],\n",
       "       [ 36000]])"
      ]
     },
     "execution_count": 34,
     "metadata": {},
     "output_type": "execute_result"
    }
   ],
   "source": [
    "y_test"
   ]
  },
  {
   "cell_type": "code",
   "execution_count": 35,
   "id": "9fb6a31a",
   "metadata": {},
   "outputs": [
    {
     "data": {
      "text/plain": [
       "array([ 56000,  65000,  45000,  78000,  45000,  65000,  45000,  32000,\n",
       "        65000,  56000,  65000,  45000,  35000,  45000,  55000,  32000,\n",
       "        98000, 100000,  35000,  98000,  45000,  45000, 100000,  45000,\n",
       "        45000,  55000,  65000,  45000,  45000,  35000,  50000,  45000,\n",
       "       100000,  43000,  55000,  32000,  77999,  45000,  45000,  45000,\n",
       "        45000,  65000,  45000,  55000,  50000,  55000,  35000,  45000,\n",
       "       120000,  45000,  32000,  55000,  45000,  45000,  45000,  55000,\n",
       "        55000,  45000,  45000,  43000,  65000,  98000,  45000,  45000,\n",
       "        55000,  45000,  45000,  52000,  32000,  45000,  55000,  45000,\n",
       "        35000, 100000,  45000,  35000,  45000,  65000,  45000,  35000,\n",
       "        58000, 100000,  45000,  45000,  45000,  35000,  36000,  55000,\n",
       "        45000,  45000,  98000,  45000,  45000,  65000,  55000, 100000,\n",
       "       200000,  28000,  43000,  45000, 130000,  55000,  45000,  65000,\n",
       "        36000,  45000,  35000,  35000,  65000,  45000,  55000,  55000,\n",
       "       100000, 120000,  36000,  45000, 100000,  45000,  45000,  65000,\n",
       "        45000,  45000,  45000,  45000,  45000,  45000,  45000,  45000,\n",
       "       100000,  45000,  45000,  55000,  45000,  45000,  85000,  36000,\n",
       "        45000,  65000,  55000, 100000,  43000,  55000,  36000,  45000,\n",
       "       120000,  45000,  45000,  65000,  45000,  45000,  45000,  80000,\n",
       "        65000,  35000,  45000,  45000,  55000,  45000,  35000, 100000,\n",
       "        32000,  35000])"
      ]
     },
     "execution_count": 35,
     "metadata": {},
     "output_type": "execute_result"
    }
   ],
   "source": [
    "predict_y"
   ]
  },
  {
   "cell_type": "code",
   "execution_count": 36,
   "id": "27d790b5",
   "metadata": {},
   "outputs": [
    {
     "data": {
      "text/html": [
       "<div>\n",
       "<style scoped>\n",
       "    .dataframe tbody tr th:only-of-type {\n",
       "        vertical-align: middle;\n",
       "    }\n",
       "\n",
       "    .dataframe tbody tr th {\n",
       "        vertical-align: top;\n",
       "    }\n",
       "\n",
       "    .dataframe thead th {\n",
       "        text-align: right;\n",
       "    }\n",
       "</style>\n",
       "<table border=\"1\" class=\"dataframe\">\n",
       "  <thead>\n",
       "    <tr style=\"text-align: right;\">\n",
       "      <th></th>\n",
       "      <th>Actual_price</th>\n",
       "      <th>Predict_price</th>\n",
       "      <th>residual</th>\n",
       "    </tr>\n",
       "  </thead>\n",
       "  <tbody>\n",
       "    <tr>\n",
       "      <th>0</th>\n",
       "      <td>65000</td>\n",
       "      <td>56000</td>\n",
       "      <td>9000</td>\n",
       "    </tr>\n",
       "    <tr>\n",
       "      <th>1</th>\n",
       "      <td>78000</td>\n",
       "      <td>65000</td>\n",
       "      <td>13000</td>\n",
       "    </tr>\n",
       "    <tr>\n",
       "      <th>2</th>\n",
       "      <td>57000</td>\n",
       "      <td>45000</td>\n",
       "      <td>12000</td>\n",
       "    </tr>\n",
       "    <tr>\n",
       "      <th>3</th>\n",
       "      <td>100000</td>\n",
       "      <td>78000</td>\n",
       "      <td>22000</td>\n",
       "    </tr>\n",
       "    <tr>\n",
       "      <th>4</th>\n",
       "      <td>120000</td>\n",
       "      <td>45000</td>\n",
       "      <td>75000</td>\n",
       "    </tr>\n",
       "  </tbody>\n",
       "</table>\n",
       "</div>"
      ],
      "text/plain": [
       "   Actual_price  Predict_price  residual\n",
       "0         65000          56000      9000\n",
       "1         78000          65000     13000\n",
       "2         57000          45000     12000\n",
       "3        100000          78000     22000\n",
       "4        120000          45000     75000"
      ]
     },
     "execution_count": 36,
     "metadata": {},
     "output_type": "execute_result"
    }
   ],
   "source": [
    "df = pd.DataFrame(data= {'Actual_price': y_test.ravel(), 'Predict_price': predict_y.ravel()})\n",
    "df[\"residual\"]=df[\"Actual_price\"]-df[\"Predict_price\"]\n",
    "df.head()"
   ]
  },
  {
   "cell_type": "code",
   "execution_count": 39,
   "id": "4de682ea",
   "metadata": {},
   "outputs": [
    {
     "data": {
      "text/plain": [
       "array([[0, 0, 0, ..., 0, 0, 0],\n",
       "       [0, 0, 0, ..., 0, 0, 0],\n",
       "       [0, 0, 0, ..., 0, 0, 1],\n",
       "       ...,\n",
       "       [0, 0, 0, ..., 0, 0, 0],\n",
       "       [0, 0, 0, ..., 0, 0, 0],\n",
       "       [0, 0, 0, ..., 0, 0, 0]])"
      ]
     },
     "execution_count": 39,
     "metadata": {},
     "output_type": "execute_result"
    }
   ],
   "source": [
    "from sklearn.metrics import confusion_matrix\n",
    "confusion_matrix= confusion_matrix(y_test, predict_y)\n",
    "confusion_matrix"
   ]
  },
  {
   "cell_type": "code",
   "execution_count": 46,
   "id": "8104a771",
   "metadata": {},
   "outputs": [
    {
     "name": "stderr",
     "output_type": "stream",
     "text": [
      "/home/abhishek/miniconda3/lib/python3.9/site-packages/sklearn/model_selection/_split.py:680: UserWarning: The least populated class in y has only 1 members, which is less than n_splits=8.\n",
      "  warnings.warn(\n"
     ]
    },
    {
     "name": "stdout",
     "output_type": "stream",
     "text": [
      "dict_keys(['fit_time', 'score_time', 'test_score'])\n",
      "___________________________________________________\n",
      "{'fit_time': array([0.13498974, 0.12031007, 0.09321332, 0.09596324, 0.10097933,\n",
      "       0.11045814, 0.10578132, 0.10821676]), 'score_time': array([0.00091839, 0.00051737, 0.00051022, 0.00053191, 0.00053406,\n",
      "       0.00052524, 0.00068808, 0.00050354]), 'test_score': array([0.04918033, 0.08196721, 0.06557377, 0.1       , 0.06666667,\n",
      "       0.06666667, 0.1       , 0.06666667])}\n"
     ]
    }
   ],
   "source": [
    "from sklearn.model_selection import KFold, cross_validate, cross_val_score \n",
    "scores = cross_validate(logisticRegr, X_scaled_train, y_train.ravel(), cv=8)\n",
    "print(scores.keys())\n",
    "print('___________________________________________________')\n",
    "print(scores)"
   ]
  },
  {
   "cell_type": "code",
   "execution_count": 42,
   "id": "69c25d7b",
   "metadata": {},
   "outputs": [
    {
     "name": "stdout",
     "output_type": "stream",
     "text": [
      "Training score ---> 0.46705079263823146\n",
      "Testing score --->  0.31695996119050684\n"
     ]
    },
    {
     "data": {
      "text/html": [
       "<div>\n",
       "<style scoped>\n",
       "    .dataframe tbody tr th:only-of-type {\n",
       "        vertical-align: middle;\n",
       "    }\n",
       "\n",
       "    .dataframe tbody tr th {\n",
       "        vertical-align: top;\n",
       "    }\n",
       "\n",
       "    .dataframe thead th {\n",
       "        text-align: right;\n",
       "    }\n",
       "</style>\n",
       "<table border=\"1\" class=\"dataframe\">\n",
       "  <thead>\n",
       "    <tr style=\"text-align: right;\">\n",
       "      <th></th>\n",
       "      <th>Actual_price</th>\n",
       "      <th>Predict_price</th>\n",
       "      <th>residual</th>\n",
       "    </tr>\n",
       "  </thead>\n",
       "  <tbody>\n",
       "    <tr>\n",
       "      <th>0</th>\n",
       "      <td>65000</td>\n",
       "      <td>72593.280672</td>\n",
       "      <td>9000</td>\n",
       "    </tr>\n",
       "    <tr>\n",
       "      <th>1</th>\n",
       "      <td>78000</td>\n",
       "      <td>64654.783335</td>\n",
       "      <td>13000</td>\n",
       "    </tr>\n",
       "    <tr>\n",
       "      <th>2</th>\n",
       "      <td>57000</td>\n",
       "      <td>28825.723473</td>\n",
       "      <td>12000</td>\n",
       "    </tr>\n",
       "    <tr>\n",
       "      <th>3</th>\n",
       "      <td>100000</td>\n",
       "      <td>65483.341258</td>\n",
       "      <td>22000</td>\n",
       "    </tr>\n",
       "    <tr>\n",
       "      <th>4</th>\n",
       "      <td>120000</td>\n",
       "      <td>71702.828687</td>\n",
       "      <td>75000</td>\n",
       "    </tr>\n",
       "  </tbody>\n",
       "</table>\n",
       "</div>"
      ],
      "text/plain": [
       "   Actual_price  Predict_price  residual\n",
       "0         65000   72593.280672      9000\n",
       "1         78000   64654.783335     13000\n",
       "2         57000   28825.723473     12000\n",
       "3        100000   65483.341258     22000\n",
       "4        120000   71702.828687     75000"
      ]
     },
     "execution_count": 42,
     "metadata": {},
     "output_type": "execute_result"
    }
   ],
   "source": [
    "from sklearn.linear_model import Ridge\n",
    "R_model = Ridge(alpha=1.0).fit(X_scaled_train, y_train.ravel())\n",
    "\n",
    "print(f\"Training score ---> {R_model.score(X_scaled_train,y_train.ravel())}\")\n",
    "predict_y =R_model.predict(X_scaled_test)\n",
    "print(f\"Testing score --->  {R_model.score(X_scaled_test,y_test.ravel())}\")\n",
    "\n",
    "df_1 = pd.DataFrame(data= {'Actual_price': y_test.ravel(), 'Predict_price': predict_y.ravel(), 'residual': df[\"Actual_price\"]-df[\"Predict_price\"]})\n",
    "df_1.head()"
   ]
  },
  {
   "cell_type": "code",
   "execution_count": 45,
   "id": "f0db1680",
   "metadata": {},
   "outputs": [
    {
     "name": "stdout",
     "output_type": "stream",
     "text": [
      "dict_keys(['fit_time', 'score_time', 'test_score'])\n",
      "___________________________________________________\n",
      "{'fit_time': array([0.00227809, 0.00237155, 0.00200462, 0.00141668, 0.00213671,\n",
      "       0.0012908 , 0.00120473, 0.00116563]), 'score_time': array([0.00117207, 0.00101018, 0.00096178, 0.00095439, 0.00136423,\n",
      "       0.00072813, 0.00071526, 0.00073934]), 'test_score': array([0.40649247, 0.35430005, 0.48085943, 0.49442312, 0.31355882,\n",
      "       0.62916424, 0.42754784, 0.50352225])}\n"
     ]
    }
   ],
   "source": [
    "from sklearn.model_selection import KFold, cross_validate, cross_val_score \n",
    "scores = cross_validate(R_model, X_scaled_train, y_train.ravel(), cv=8)\n",
    "print(scores.keys())\n",
    "print('___________________________________________________')\n",
    "print(scores)"
   ]
  },
  {
   "cell_type": "code",
   "execution_count": 47,
   "id": "c4bc527d",
   "metadata": {},
   "outputs": [
    {
     "name": "stdout",
     "output_type": "stream",
     "text": [
      "Training score ---> 0.4670526884710884\n",
      "Testing score --->  0.31664312073779766\n"
     ]
    },
    {
     "data": {
      "text/html": [
       "<div>\n",
       "<style scoped>\n",
       "    .dataframe tbody tr th:only-of-type {\n",
       "        vertical-align: middle;\n",
       "    }\n",
       "\n",
       "    .dataframe tbody tr th {\n",
       "        vertical-align: top;\n",
       "    }\n",
       "\n",
       "    .dataframe thead th {\n",
       "        text-align: right;\n",
       "    }\n",
       "</style>\n",
       "<table border=\"1\" class=\"dataframe\">\n",
       "  <thead>\n",
       "    <tr style=\"text-align: right;\">\n",
       "      <th></th>\n",
       "      <th>Actual_price</th>\n",
       "      <th>Predict_price</th>\n",
       "      <th>residual</th>\n",
       "    </tr>\n",
       "  </thead>\n",
       "  <tbody>\n",
       "    <tr>\n",
       "      <th>0</th>\n",
       "      <td>65000</td>\n",
       "      <td>72600.611856</td>\n",
       "      <td>9000</td>\n",
       "    </tr>\n",
       "    <tr>\n",
       "      <th>1</th>\n",
       "      <td>78000</td>\n",
       "      <td>64631.311765</td>\n",
       "      <td>13000</td>\n",
       "    </tr>\n",
       "    <tr>\n",
       "      <th>2</th>\n",
       "      <td>57000</td>\n",
       "      <td>28749.709370</td>\n",
       "      <td>12000</td>\n",
       "    </tr>\n",
       "    <tr>\n",
       "      <th>3</th>\n",
       "      <td>100000</td>\n",
       "      <td>65439.021783</td>\n",
       "      <td>22000</td>\n",
       "    </tr>\n",
       "    <tr>\n",
       "      <th>4</th>\n",
       "      <td>120000</td>\n",
       "      <td>71709.308858</td>\n",
       "      <td>75000</td>\n",
       "    </tr>\n",
       "  </tbody>\n",
       "</table>\n",
       "</div>"
      ],
      "text/plain": [
       "   Actual_price  Predict_price  residual\n",
       "0         65000   72600.611856      9000\n",
       "1         78000   64631.311765     13000\n",
       "2         57000   28749.709370     12000\n",
       "3        100000   65439.021783     22000\n",
       "4        120000   71709.308858     75000"
      ]
     },
     "execution_count": 47,
     "metadata": {},
     "output_type": "execute_result"
    }
   ],
   "source": [
    "from sklearn.linear_model import Lasso\n",
    "\n",
    "l_model = Lasso(alpha=1.0).fit(X_scaled_train, y_train.ravel())\n",
    "\n",
    "print(f\"Training score ---> {l_model.score(X_scaled_train,y_train.ravel())}\")\n",
    "predict_y =l_model.predict(X_scaled_test)\n",
    "print(f\"Testing score --->  {l_model.score(X_scaled_test,y_test.ravel())}\")\n",
    "\n",
    "df = pd.DataFrame(data= {'Actual_price': y_test.ravel(), 'Predict_price': predict_y.ravel(), 'residual': df[\"Actual_price\"]-df[\"Predict_price\"]})\n",
    "df.head()"
   ]
  },
  {
   "cell_type": "code",
   "execution_count": 48,
   "id": "d1a9e604",
   "metadata": {},
   "outputs": [
    {
     "name": "stdout",
     "output_type": "stream",
     "text": [
      "dict_keys(['fit_time', 'score_time', 'test_score'])\n",
      "___________________________________________________\n",
      "{'fit_time': array([0.00269485, 0.00140047, 0.00126982, 0.00134182, 0.00186253,\n",
      "       0.00097418, 0.00086355, 0.00086117]), 'score_time': array([0.00124979, 0.00088882, 0.00085545, 0.00114942, 0.00069618,\n",
      "       0.00059509, 0.00052953, 0.00055361]), 'test_score': array([0.40695326, 0.35387458, 0.4803476 , 0.49423803, 0.31289634,\n",
      "       0.62930557, 0.42750754, 0.50395479])}\n"
     ]
    }
   ],
   "source": [
    "from sklearn.model_selection import cross_validate, cross_val_score \n",
    "scores = cross_validate(l_model, X_scaled_train, y_train.ravel(), cv=8)\n",
    "print(scores.keys())\n",
    "print('___________________________________________________')\n",
    "print(scores)"
   ]
  },
  {
   "cell_type": "code",
   "execution_count": 49,
   "id": "25745963",
   "metadata": {},
   "outputs": [
    {
     "name": "stdout",
     "output_type": "stream",
     "text": [
      "\n",
      "Training score ---> 0.4323724189228715\n",
      "Testing score --->  0.32709801358492774\n"
     ]
    },
    {
     "data": {
      "text/html": [
       "<div>\n",
       "<style scoped>\n",
       "    .dataframe tbody tr th:only-of-type {\n",
       "        vertical-align: middle;\n",
       "    }\n",
       "\n",
       "    .dataframe tbody tr th {\n",
       "        vertical-align: top;\n",
       "    }\n",
       "\n",
       "    .dataframe thead th {\n",
       "        text-align: right;\n",
       "    }\n",
       "</style>\n",
       "<table border=\"1\" class=\"dataframe\">\n",
       "  <thead>\n",
       "    <tr style=\"text-align: right;\">\n",
       "      <th></th>\n",
       "      <th>Actual_price</th>\n",
       "      <th>Predict_price</th>\n",
       "      <th>residual</th>\n",
       "    </tr>\n",
       "  </thead>\n",
       "  <tbody>\n",
       "    <tr>\n",
       "      <th>0</th>\n",
       "      <td>65000</td>\n",
       "      <td>68602.581265</td>\n",
       "      <td>-7600.611856</td>\n",
       "    </tr>\n",
       "    <tr>\n",
       "      <th>1</th>\n",
       "      <td>78000</td>\n",
       "      <td>66754.866525</td>\n",
       "      <td>13368.688235</td>\n",
       "    </tr>\n",
       "    <tr>\n",
       "      <th>2</th>\n",
       "      <td>57000</td>\n",
       "      <td>39917.318244</td>\n",
       "      <td>28250.290630</td>\n",
       "    </tr>\n",
       "    <tr>\n",
       "      <th>3</th>\n",
       "      <td>100000</td>\n",
       "      <td>69155.932871</td>\n",
       "      <td>34560.978217</td>\n",
       "    </tr>\n",
       "    <tr>\n",
       "      <th>4</th>\n",
       "      <td>120000</td>\n",
       "      <td>70224.944326</td>\n",
       "      <td>48290.691142</td>\n",
       "    </tr>\n",
       "  </tbody>\n",
       "</table>\n",
       "</div>"
      ],
      "text/plain": [
       "   Actual_price  Predict_price      residual\n",
       "0         65000   68602.581265  -7600.611856\n",
       "1         78000   66754.866525  13368.688235\n",
       "2         57000   39917.318244  28250.290630\n",
       "3        100000   69155.932871  34560.978217\n",
       "4        120000   70224.944326  48290.691142"
      ]
     },
     "execution_count": 49,
     "metadata": {},
     "output_type": "execute_result"
    }
   ],
   "source": [
    "from sklearn.linear_model import ElasticNet\n",
    "elastic = ElasticNet(alpha=1, l1_ratio=0.5, max_iter=100)\n",
    "elastic.fit(X_scaled_train, y_train.ravel())\n",
    "print(f\"\\nTraining score ---> {elastic.score(X_scaled_train,y_train.ravel())}\")\n",
    "predict_y =elastic.predict(X_scaled_test)\n",
    "print(f\"Testing score --->  {elastic.score(X_scaled_test,y_test.ravel())}\")\n",
    "\n",
    "df = pd.DataFrame(data= {'Actual_price': y_test.ravel(), 'Predict_price': predict_y.ravel(), 'residual': df[\"Actual_price\"]-df[\"Predict_price\"]})\n",
    "df.head()"
   ]
  },
  {
   "cell_type": "code",
   "execution_count": 50,
   "id": "c52ea755",
   "metadata": {},
   "outputs": [
    {
     "name": "stdout",
     "output_type": "stream",
     "text": [
      "dict_keys(['fit_time', 'score_time', 'test_score'])\n",
      "___________________________________________________\n",
      "{'fit_time': array([0.00156188, 0.00342679, 0.00120449, 0.00133562, 0.00132322,\n",
      "       0.00193191, 0.00094461, 0.00106502]), 'score_time': array([0.00115347, 0.00201106, 0.0011971 , 0.00084829, 0.0009191 ,\n",
      "       0.00068974, 0.00054121, 0.00086236]), 'test_score': array([0.32787783, 0.35515535, 0.49304929, 0.47304629, 0.35530551,\n",
      "       0.56696569, 0.41289544, 0.42254617])}\n"
     ]
    }
   ],
   "source": [
    "from sklearn.model_selection import cross_validate, cross_val_score \n",
    "scores = cross_validate(elastic, X_scaled_train, y_train.ravel(), cv=8)\n",
    "print(scores.keys())\n",
    "print('___________________________________________________')\n",
    "print(scores)"
   ]
  },
  {
   "cell_type": "code",
   "execution_count": null,
   "id": "9834814c",
   "metadata": {},
   "outputs": [],
   "source": []
  }
 ],
 "metadata": {
  "kernelspec": {
   "display_name": "Python 3",
   "language": "python",
   "name": "python3"
  },
  "language_info": {
   "codemirror_mode": {
    "name": "ipython",
    "version": 3
   },
   "file_extension": ".py",
   "mimetype": "text/x-python",
   "name": "python",
   "nbconvert_exporter": "python",
   "pygments_lexer": "ipython3",
   "version": "3.9.7"
  }
 },
 "nbformat": 4,
 "nbformat_minor": 5
}
